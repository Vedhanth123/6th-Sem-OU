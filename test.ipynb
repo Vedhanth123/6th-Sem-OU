{
 "cells": [
  {
   "cell_type": "code",
   "execution_count": 2,
   "metadata": {},
   "outputs": [
    {
     "name": "stdout",
     "output_type": "stream",
     "text": [
      "Requirement already satisfied: openai in c:\\code\\6th-sem-ou\\6th-sem\\lib\\site-packages (1.12.0)\n",
      "Requirement already satisfied: httpx<1,>=0.23.0 in c:\\code\\6th-sem-ou\\6th-sem\\lib\\site-packages (from openai) (0.26.0)\n",
      "Requirement already satisfied: pydantic<3,>=1.9.0 in c:\\code\\6th-sem-ou\\6th-sem\\lib\\site-packages (from openai) (2.6.1)\n",
      "Requirement already satisfied: tqdm>4 in c:\\code\\6th-sem-ou\\6th-sem\\lib\\site-packages (from openai) (4.66.1)\n",
      "Requirement already satisfied: sniffio in c:\\code\\6th-sem-ou\\6th-sem\\lib\\site-packages (from openai) (1.3.0)\n",
      "Requirement already satisfied: typing-extensions<5,>=4.7 in c:\\code\\6th-sem-ou\\6th-sem\\lib\\site-packages (from openai) (4.9.0)\n",
      "Requirement already satisfied: anyio<5,>=3.5.0 in c:\\code\\6th-sem-ou\\6th-sem\\lib\\site-packages (from openai) (4.2.0)\n",
      "Requirement already satisfied: distro<2,>=1.7.0 in c:\\code\\6th-sem-ou\\6th-sem\\lib\\site-packages (from openai) (1.9.0)\n",
      "Requirement already satisfied: exceptiongroup>=1.0.2 in c:\\code\\6th-sem-ou\\6th-sem\\lib\\site-packages (from anyio<5,>=3.5.0->openai) (1.2.0)\n",
      "Requirement already satisfied: idna>=2.8 in c:\\code\\6th-sem-ou\\6th-sem\\lib\\site-packages (from anyio<5,>=3.5.0->openai) (3.6)\n",
      "Requirement already satisfied: certifi in c:\\code\\6th-sem-ou\\6th-sem\\lib\\site-packages (from httpx<1,>=0.23.0->openai) (2023.11.17)\n",
      "Requirement already satisfied: httpcore==1.* in c:\\code\\6th-sem-ou\\6th-sem\\lib\\site-packages (from httpx<1,>=0.23.0->openai) (1.0.2)\n",
      "Requirement already satisfied: h11<0.15,>=0.13 in c:\\code\\6th-sem-ou\\6th-sem\\lib\\site-packages (from httpcore==1.*->httpx<1,>=0.23.0->openai) (0.14.0)\n",
      "Requirement already satisfied: pydantic-core==2.16.2 in c:\\code\\6th-sem-ou\\6th-sem\\lib\\site-packages (from pydantic<3,>=1.9.0->openai) (2.16.2)\n",
      "Requirement already satisfied: annotated-types>=0.4.0 in c:\\code\\6th-sem-ou\\6th-sem\\lib\\site-packages (from pydantic<3,>=1.9.0->openai) (0.6.0)\n",
      "Requirement already satisfied: colorama in c:\\code\\6th-sem-ou\\6th-sem\\lib\\site-packages (from tqdm>4->openai) (0.4.6)\n",
      "Note: you may need to restart the kernel to use updated packages.\n"
     ]
    },
    {
     "name": "stderr",
     "output_type": "stream",
     "text": [
      "\n",
      "[notice] A new release of pip available: 22.2.1 -> 24.0\n",
      "[notice] To update, run: python.exe -m pip install --upgrade pip\n"
     ]
    }
   ],
   "source": [
    "%pip install openai"
   ]
  },
  {
   "cell_type": "code",
   "execution_count": null,
   "metadata": {},
   "outputs": [],
   "source": []
  }
 ],
 "metadata": {
  "kernelspec": {
   "display_name": "6th-sem",
   "language": "python",
   "name": "python3"
  },
  "language_info": {
   "codemirror_mode": {
    "name": "ipython",
    "version": 3
   },
   "file_extension": ".py",
   "mimetype": "text/x-python",
   "name": "python",
   "nbconvert_exporter": "python",
   "pygments_lexer": "ipython3",
   "version": "3.10.6"
  }
 },
 "nbformat": 4,
 "nbformat_minor": 2
}
